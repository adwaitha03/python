{
  "nbformat": 4,
  "nbformat_minor": 0,
  "metadata": {
    "colab": {
      "name": "17-12-19.ipynb",
      "provenance": [],
      "include_colab_link": true
    },
    "kernelspec": {
      "name": "python3",
      "display_name": "Python 3"
    }
  },
  "cells": [
    {
      "cell_type": "markdown",
      "metadata": {
        "id": "view-in-github",
        "colab_type": "text"
      },
      "source": [
        "<a href=\"https://colab.research.google.com/github/adwaitha03/python/blob/master/17_12_19.ipynb\" target=\"_parent\"><img src=\"https://colab.research.google.com/assets/colab-badge.svg\" alt=\"Open In Colab\"/></a>"
      ]
    },
    {
      "cell_type": "code",
      "metadata": {
        "id": "l6xeEJ9EBUSW",
        "colab_type": "code",
        "colab": {}
      },
      "source": [
        ""
      ],
      "execution_count": 0,
      "outputs": []
    },
    {
      "cell_type": "markdown",
      "metadata": {
        "id": "mXi9hHotBV8D",
        "colab_type": "text"
      },
      "source": [
        "collection of data structures types:\n",
        "\n",
        "1.list\n",
        "\n",
        "2.tuple\n",
        "\n",
        "3.set\n",
        "\n",
        "4.dictionary\n",
        "\n",
        "#list:\n",
        "-one of the data structures in python\n",
        "\n",
        "-data structures means to store ,sort and search options\n",
        "\n",
        "-its one common data structure in python,the items of list seperated by comma and enclosed by square brackets\n",
        "\n",
        "###example\n",
        "-list1=[1,2,3,4]\n",
        "\n",
        "list2==[\"gitam\",1,2,3]\n",
        "\n"
      ]
    },
    {
      "cell_type": "code",
      "metadata": {
        "id": "5w3Amn4RDvb9",
        "colab_type": "code",
        "colab": {
          "base_uri": "https://localhost:8080/",
          "height": 136
        },
        "outputId": "dfaa72df-dcb2-4a37-85ad-bd42f26dcdb8"
      },
      "source": [
        "li=[1,8,16,9,2]\n",
        "print(li)\n",
        "print(li[2])\n",
        "print(li[-3])\n",
        "print(li[2:])\n",
        "print(li[2:4])\n",
        "print(li[-3:-1])\n",
        "print(li[-4:-2])"
      ],
      "execution_count": 4,
      "outputs": [
        {
          "output_type": "stream",
          "text": [
            "[1, 8, 16, 9, 2]\n",
            "16\n",
            "16\n",
            "[16, 9, 2]\n",
            "[16, 9]\n",
            "[16, 9]\n",
            "[8, 16]\n"
          ],
          "name": "stdout"
        }
      ]
    },
    {
      "cell_type": "code",
      "metadata": {
        "id": "7aYZ04XEFuhi",
        "colab_type": "code",
        "colab": {
          "base_uri": "https://localhost:8080/",
          "height": 51
        },
        "outputId": "8c8d9f48-d5b2-4e70-ddad-7b6c28e5eed4"
      },
      "source": [
        "li=[\"gitam\",1234,1235,1236,\"hyd\"]\n",
        "print(li)\n",
        "print(li[0][2])"
      ],
      "execution_count": 7,
      "outputs": [
        {
          "output_type": "stream",
          "text": [
            "['gitam', 1234, 1235, 1236, 'hyd']\n",
            "t\n"
          ],
          "name": "stdout"
        }
      ]
    },
    {
      "cell_type": "code",
      "metadata": {
        "id": "NT0HvR4sHDr6",
        "colab_type": "code",
        "colab": {
          "base_uri": "https://localhost:8080/",
          "height": 34
        },
        "outputId": "0bc6f24d-255d-443e-d305-d6ae3c508f48"
      },
      "source": [
        "del(li[2])\n",
        "print(li)"
      ],
      "execution_count": 8,
      "outputs": [
        {
          "output_type": "stream",
          "text": [
            "['gitam', 1234, 1236, 'hyd']\n"
          ],
          "name": "stdout"
        }
      ]
    },
    {
      "cell_type": "code",
      "metadata": {
        "id": "I8w_kB7KHYJS",
        "colab_type": "code",
        "colab": {
          "base_uri": "https://localhost:8080/",
          "height": 34
        },
        "outputId": "3bff1186-dd6b-46df-986a-0b045c606dc6"
      },
      "source": [
        "# update\n",
        "li[1]=123\n",
        "print(li)"
      ],
      "execution_count": 9,
      "outputs": [
        {
          "output_type": "stream",
          "text": [
            "['gitam', 123, 1236, 'hyd']\n"
          ],
          "name": "stdout"
        }
      ]
    },
    {
      "cell_type": "code",
      "metadata": {
        "id": "s1tsClhqIBFh",
        "colab_type": "code",
        "colab": {
          "base_uri": "https://localhost:8080/",
          "height": 102
        },
        "outputId": "7a7e81fe-e6a4-4061-ce95-753a86c3b636"
      },
      "source": [
        "#basic list functions\n",
        "li=[1,9,116,25,5]\n",
        "print(max(li))\n",
        "print(min(li))\n",
        "print(sum(li))\n",
        "print(len(li))\n",
        "print(sum(li)//len(li))"
      ],
      "execution_count": 14,
      "outputs": [
        {
          "output_type": "stream",
          "text": [
            "116\n",
            "1\n",
            "156\n",
            "5\n",
            "31\n"
          ],
          "name": "stdout"
        }
      ]
    },
    {
      "cell_type": "code",
      "metadata": {
        "id": "PuBtpxX_Jf9S",
        "colab_type": "code",
        "colab": {
          "base_uri": "https://localhost:8080/",
          "height": 34
        },
        "outputId": "a661a42a-ef12-4d50-ae38-f688e258052d"
      },
      "source": [
        "li=[1,9,116,25,5]\n",
        "li.append(89)\n",
        "li.insert(2,56)\n",
        "li.count(9)\n",
        "li.index(5)\n",
        "li.sort()\n",
        "li.pop()\n",
        "li"
      ],
      "execution_count": 23,
      "outputs": [
        {
          "output_type": "execute_result",
          "data": {
            "text/plain": [
              "[1, 5, 9, 25, 56, 89]"
            ]
          },
          "metadata": {
            "tags": []
          },
          "execution_count": 23
        }
      ]
    },
    {
      "cell_type": "code",
      "metadata": {
        "id": "jj9v48-AMxvV",
        "colab_type": "code",
        "colab": {}
      },
      "source": [
        "\n"
      ],
      "execution_count": 0,
      "outputs": []
    },
    {
      "cell_type": "markdown",
      "metadata": {
        "id": "ghrIGn7uN3Xa",
        "colab_type": "text"
      },
      "source": [
        "####del-delete list item from the list\n"
      ]
    },
    {
      "cell_type": "code",
      "metadata": {
        "id": "Z_TCbgHEODul",
        "colab_type": "code",
        "colab": {
          "base_uri": "https://localhost:8080/",
          "height": 34
        },
        "outputId": "a31b2844-7627-446b-aba0-17f3fabd3101"
      },
      "source": [
        "li=[1,9,116,25,5,9]\n",
        "li1=[76,78,79]\n",
        "li.extend(li1)\n",
        "li\n",
        "li.reverse()\n",
        "li\n"
      ],
      "execution_count": 26,
      "outputs": [
        {
          "output_type": "execute_result",
          "data": {
            "text/plain": [
              "[79, 78, 76, 9, 5, 25, 116, 9, 1]"
            ]
          },
          "metadata": {
            "tags": []
          },
          "execution_count": 26
        }
      ]
    },
    {
      "cell_type": "code",
      "metadata": {
        "id": "STx5NfV5Og7a",
        "colab_type": "code",
        "colab": {}
      },
      "source": [
        ""
      ],
      "execution_count": 0,
      "outputs": []
    },
    {
      "cell_type": "markdown",
      "metadata": {
        "id": "uIGVgi44Ohf7",
        "colab_type": "text"
      },
      "source": [
        "#function to return the large number from given list"
      ]
    },
    {
      "cell_type": "code",
      "metadata": {
        "id": "kwVRm45fO_T5",
        "colab_type": "code",
        "colab": {
          "base_uri": "https://localhost:8080/",
          "height": 51
        },
        "outputId": "a9a9c62e-3be7-426f-c265-e9a3217d6967"
      },
      "source": [
        "##function to return the large number from given list\n",
        "def largenumber(li):\n",
        "  li.sort()\n",
        "  return li[-1]\n",
        "def genericlarge(li,n):\n",
        "  li.sort()\n",
        "  return li[-n]\n",
        "li=[19,1,25,45,76]\n",
        "print(largenumber(li))\n",
        "print(genericlarge(li,2))"
      ],
      "execution_count": 30,
      "outputs": [
        {
          "output_type": "stream",
          "text": [
            "76\n",
            "45\n"
          ],
          "name": "stdout"
        }
      ]
    },
    {
      "cell_type": "code",
      "metadata": {
        "id": "wX3E9wnoQzud",
        "colab_type": "code",
        "colab": {
          "base_uri": "https://localhost:8080/",
          "height": 51
        },
        "outputId": "039e8f77-d7b3-48aa-e0f1-6a1e51045482"
      },
      "source": [
        "#function to return small number\n",
        "def smallnumber(li):\n",
        "  li.sort()\n",
        "  return li[0]\n",
        "def genericsmall(li,n):\n",
        "  li.sort()\n",
        "  return li[n]\n",
        "li=[19,1,25,45,76]\n",
        "print(smallnumber(li))\n",
        "print(genericsmall(li,1))"
      ],
      "execution_count": 35,
      "outputs": [
        {
          "output_type": "stream",
          "text": [
            "1\n",
            "19\n"
          ],
          "name": "stdout"
        }
      ]
    },
    {
      "cell_type": "markdown",
      "metadata": {
        "id": "HwBwcxoBTJEK",
        "colab_type": "text"
      },
      "source": [
        ""
      ]
    },
    {
      "cell_type": "markdown",
      "metadata": {
        "colab_type": "text",
        "id": "JqC61r1TTJ2M"
      },
      "source": [
        "#tuple\n",
        "-its one common data structure type in python the items of the tuple seperated by comma and enclosed by parenthesis is()\n",
        "\n",
        "example:\n",
        "ti=(1,2,3,4)"
      ]
    },
    {
      "cell_type": "code",
      "metadata": {
        "colab_type": "code",
        "id": "mEBryrDtTJ2P",
        "colab": {}
      },
      "source": [
        "##list and tuple\n",
        "-in list are mutable -can be changed/modified\n",
        "-list used to modify,add,delete,update\n",
        "tuple are immutable-cannot changed\n",
        "tuple used to access data only"
      ],
      "execution_count": 0,
      "outputs": []
    },
    {
      "cell_type": "code",
      "metadata": {
        "id": "Bbthwa_ZTobi",
        "colab_type": "code",
        "colab": {
          "base_uri": "https://localhost:8080/",
          "height": 34
        },
        "outputId": "233997f5-4303-4349-b5e3-d06820b81c02"
      },
      "source": [
        "t1=(1,2,3,4,54)\n",
        "t1"
      ],
      "execution_count": 36,
      "outputs": [
        {
          "output_type": "execute_result",
          "data": {
            "text/plain": [
              "(1, 2, 3, 4, 54)"
            ]
          },
          "metadata": {
            "tags": []
          },
          "execution_count": 36
        }
      ]
    },
    {
      "cell_type": "code",
      "metadata": {
        "id": "soGoNHfDT3Mr",
        "colab_type": "code",
        "colab": {}
      },
      "source": [
        "#dictionaries\n",
        "1.it works on concept of set unique data\n",
        "2.dictionary contains keys and values\n",
        "3.each key and value seperated by comma\n",
        "4.each key is seperated from its values with colon(:)"
      ],
      "execution_count": 0,
      "outputs": []
    },
    {
      "cell_type": "code",
      "metadata": {
        "id": "RvxlgZ0bU186",
        "colab_type": "code",
        "colab": {
          "base_uri": "https://localhost:8080/",
          "height": 34
        },
        "outputId": "eb6444e8-8a4a-4279-eb43-fb6814d83e53"
      },
      "source": [
        "d1={\"name\":\"gitam\",\"email\":\"gitam@in\",\"addresss\":\"hyderabad\"}\n",
        "d1"
      ],
      "execution_count": 37,
      "outputs": [
        {
          "output_type": "execute_result",
          "data": {
            "text/plain": [
              "{'addresss': 'hyderabad', 'email': 'gitam@in', 'name': 'gitam'}"
            ]
          },
          "metadata": {
            "tags": []
          },
          "execution_count": 37
        }
      ]
    },
    {
      "cell_type": "code",
      "metadata": {
        "id": "gcrKEdtfWFJC",
        "colab_type": "code",
        "colab": {
          "base_uri": "https://localhost:8080/",
          "height": 34
        },
        "outputId": "02231c0e-3e7b-49c6-8f16-a26b7c052448"
      },
      "source": [
        "d1[\"name\"]"
      ],
      "execution_count": 38,
      "outputs": [
        {
          "output_type": "execute_result",
          "data": {
            "text/plain": [
              "'gitam'"
            ]
          },
          "metadata": {
            "tags": []
          },
          "execution_count": 38
        }
      ]
    },
    {
      "cell_type": "code",
      "metadata": {
        "id": "7VRl9oRvWn_X",
        "colab_type": "code",
        "colab": {
          "base_uri": "https://localhost:8080/",
          "height": 34
        },
        "outputId": "443aec58-3d7e-43e6-9b6c-80c7785b060b"
      },
      "source": [
        "d1['name']='vedant'\n",
        "d1"
      ],
      "execution_count": 39,
      "outputs": [
        {
          "output_type": "execute_result",
          "data": {
            "text/plain": [
              "{'addresss': 'hyderabad', 'email': 'gitam@in', 'name': 'vedant'}"
            ]
          },
          "metadata": {
            "tags": []
          },
          "execution_count": 39
        }
      ]
    },
    {
      "cell_type": "code",
      "metadata": {
        "id": "n2507DmBXNQ-",
        "colab_type": "code",
        "colab": {
          "base_uri": "https://localhost:8080/",
          "height": 85
        },
        "outputId": "70c2db0a-1b17-4ebe-f81c-e90755ac81e9"
      },
      "source": [
        "d1['roll-no']='2215316656'\n",
        "d1"
      ],
      "execution_count": 42,
      "outputs": [
        {
          "output_type": "execute_result",
          "data": {
            "text/plain": [
              "{'addresss': 'hyderabad',\n",
              " 'email': 'gitam@in',\n",
              " 'name': 'vedant',\n",
              " 'roll-no': '2215316656'}"
            ]
          },
          "metadata": {
            "tags": []
          },
          "execution_count": 42
        }
      ]
    },
    {
      "cell_type": "code",
      "metadata": {
        "id": "8elxAyR-Xloe",
        "colab_type": "code",
        "colab": {
          "base_uri": "https://localhost:8080/",
          "height": 34
        },
        "outputId": "050069a6-c10f-4399-9db4-40f716acceaf"
      },
      "source": [
        "del d1['email']\n",
        "d1"
      ],
      "execution_count": 43,
      "outputs": [
        {
          "output_type": "execute_result",
          "data": {
            "text/plain": [
              "{'addresss': 'hyderabad', 'name': 'vedant', 'roll-no': '2215316656'}"
            ]
          },
          "metadata": {
            "tags": []
          },
          "execution_count": 43
        }
      ]
    },
    {
      "cell_type": "code",
      "metadata": {
        "id": "es9zcipnX4eb",
        "colab_type": "code",
        "colab": {
          "base_uri": "https://localhost:8080/",
          "height": 34
        },
        "outputId": "25412a06-9168-4a25-e328-dfc40fee18c2"
      },
      "source": [
        "d1.keys()"
      ],
      "execution_count": 46,
      "outputs": [
        {
          "output_type": "execute_result",
          "data": {
            "text/plain": [
              "dict_keys(['name', 'addresss', 'roll-no'])"
            ]
          },
          "metadata": {
            "tags": []
          },
          "execution_count": 46
        }
      ]
    },
    {
      "cell_type": "code",
      "metadata": {
        "id": "Mvrgp_73Yj_t",
        "colab_type": "code",
        "colab": {
          "base_uri": "https://localhost:8080/",
          "height": 34
        },
        "outputId": "3c458f40-dcbf-4e5c-cc78-a12713af0591"
      },
      "source": [
        "d1.values()"
      ],
      "execution_count": 47,
      "outputs": [
        {
          "output_type": "execute_result",
          "data": {
            "text/plain": [
              "dict_values(['vedant', 'hyderabad', '2215316656'])"
            ]
          },
          "metadata": {
            "tags": []
          },
          "execution_count": 47
        }
      ]
    },
    {
      "cell_type": "code",
      "metadata": {
        "id": "AdPPQXivYpo0",
        "colab_type": "code",
        "colab": {
          "base_uri": "https://localhost:8080/",
          "height": 34
        },
        "outputId": "eea12c8f-0292-4a22-a333-a7b083fbc772"
      },
      "source": [
        "d1.items()"
      ],
      "execution_count": 48,
      "outputs": [
        {
          "output_type": "execute_result",
          "data": {
            "text/plain": [
              "dict_items([('name', 'vedant'), ('addresss', 'hyderabad'), ('roll-no', '2215316656')])"
            ]
          },
          "metadata": {
            "tags": []
          },
          "execution_count": 48
        }
      ]
    },
    {
      "cell_type": "markdown",
      "metadata": {
        "id": "EMnx3EvTY3PT",
        "colab_type": "text"
      },
      "source": [
        ""
      ]
    },
    {
      "cell_type": "markdown",
      "metadata": {
        "id": "Xr9-aQyUZocE",
        "colab_type": "text"
      },
      "source": [
        "Strings:\n"
      ]
    },
    {
      "cell_type": "code",
      "metadata": {
        "id": "3W_EvpbpZrVu",
        "colab_type": "code",
        "colab": {
          "base_uri": "https://localhost:8080/",
          "height": 51
        },
        "outputId": "ddc81525-226b-4a77-c896-2561a54923f7"
      },
      "source": [
        "s1=\"python\"\n",
        "print(s1)\n",
        "print(type(s1))"
      ],
      "execution_count": 56,
      "outputs": [
        {
          "output_type": "stream",
          "text": [
            "python\n",
            "<class 'str'>\n"
          ],
          "name": "stdout"
        }
      ]
    },
    {
      "cell_type": "code",
      "metadata": {
        "id": "GDDXMD4cZ2Nt",
        "colab_type": "code",
        "colab": {
          "base_uri": "https://localhost:8080/",
          "height": 170
        },
        "outputId": "5cf8f285-201d-48ac-d81f-6b1c8386f8d8"
      },
      "source": [
        "s1=\"python\"\n",
        "print(s1[0])\n",
        "print(len(s1)-2)\n",
        "print(s1[len(s1)-2])\n",
        "print(s1[1:-1])\n",
        "print(s1[len(s1)//2])\n",
        "print(s1[::2])\n",
        "print(s1[::3])\n",
        "print(s1[::4])\n",
        "print(s1[::-1])"
      ],
      "execution_count": 66,
      "outputs": [
        {
          "output_type": "stream",
          "text": [
            "p\n",
            "4\n",
            "o\n",
            "ytho\n",
            "h\n",
            "pto\n",
            "ph\n",
            "po\n",
            "nohtyp\n"
          ],
          "name": "stdout"
        }
      ]
    },
    {
      "cell_type": "markdown",
      "metadata": {
        "id": "RgVOqMIhcD6Y",
        "colab_type": "text"
      },
      "source": [
        "string built in methods:\n",
        "\n",
        "- upper\n",
        "\n",
        "- lower\n",
        "\n",
        "- islower\n",
        "\n",
        "- isupper\n",
        "\n",
        "- istitle\n",
        "\n",
        "- isnumeric\n",
        "\n",
        "- isalpha\n",
        "\n",
        "- isspace"
      ]
    },
    {
      "cell_type": "code",
      "metadata": {
        "id": "8Y8nx_lec-gd",
        "colab_type": "code",
        "colab": {
          "base_uri": "https://localhost:8080/",
          "height": 153
        },
        "outputId": "d40991c3-3ba8-488b-ae80-b70ee5570bd7"
      },
      "source": [
        "s1='python'\n",
        "print(s1.upper())\n",
        "print(s1.lower())\n",
        "print(s1.isupper())\n",
        "print(s1.islower())\n",
        "print(s1.istitle())\n",
        "print(s1.isalpha())\n",
        "print(s1.isnumeric())\n",
        "s1=' '\n",
        "print(s1.isspace())\n"
      ],
      "execution_count": 76,
      "outputs": [
        {
          "output_type": "stream",
          "text": [
            "PYTHON\n",
            "python\n",
            "False\n",
            "True\n",
            "False\n",
            "True\n",
            "False\n",
            "True\n"
          ],
          "name": "stdout"
        }
      ]
    },
    {
      "cell_type": "markdown",
      "metadata": {
        "id": "GD-FyhG_eexF",
        "colab_type": "text"
      },
      "source": [
        "string methods:\n",
        "\n",
        "  -join()\n",
        "\n",
        "  -split()\n",
        "\n",
        "   -replace()\n"
      ]
    },
    {
      "cell_type": "code",
      "metadata": {
        "id": "ja73avQhfFc9",
        "colab_type": "code",
        "colab": {
          "base_uri": "https://localhost:8080/",
          "height": 34
        },
        "outputId": "9a9155ff-7877-4b1f-de40-722423973fde"
      },
      "source": [
        "s1=\"python\"\n",
        "print(\"*\".join(s1))"
      ],
      "execution_count": 79,
      "outputs": [
        {
          "output_type": "stream",
          "text": [
            "p*y*t*h*o*n\n"
          ],
          "name": "stdout"
        }
      ]
    },
    {
      "cell_type": "code",
      "metadata": {
        "id": "WZ1qzJC3fiAu",
        "colab_type": "code",
        "colab": {
          "base_uri": "https://localhost:8080/",
          "height": 34
        },
        "outputId": "13cbed23-8b36-4eb3-e334-6484a8b071e1"
      },
      "source": [
        "s1=\" python programming is easy to learn\"\n",
        "print(s1.split())"
      ],
      "execution_count": 80,
      "outputs": [
        {
          "output_type": "stream",
          "text": [
            "['python', 'programming', 'is', 'easy', 'to', 'learn']\n"
          ],
          "name": "stdout"
        }
      ]
    },
    {
      "cell_type": "code",
      "metadata": {
        "id": "0sYR2N3Bf14k",
        "colab_type": "code",
        "colab": {
          "base_uri": "https://localhost:8080/",
          "height": 34
        },
        "outputId": "94d99415-03e6-4910-cac0-0c574097b2dc"
      },
      "source": [
        "s1=\"python programming is easy to learn\"\n",
        "print(s1.replace(\"ing\",'gitam'))"
      ],
      "execution_count": 82,
      "outputs": [
        {
          "output_type": "stream",
          "text": [
            "python programmgitam is easy to learn\n"
          ],
          "name": "stdout"
        }
      ]
    }
  ]
}