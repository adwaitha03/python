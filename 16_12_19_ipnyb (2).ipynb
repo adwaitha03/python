{
  "nbformat": 4,
  "nbformat_minor": 0,
  "metadata": {
    "colab": {
      "name": "16-12-19.ipnyb",
      "provenance": []
    },
    "kernelspec": {
      "name": "python3",
      "display_name": "Python 3"
    }
  },
  "cells": [
    {
      "cell_type": "code",
      "metadata": {
        "id": "3lwpbLHy1UQF",
        "colab_type": "code",
        "colab": {}
      },
      "source": [
        ""
      ],
      "execution_count": 0,
      "outputs": []
    },
    {
      "cell_type": "markdown",
      "metadata": {
        "id": "Odq3q8SE1ceU",
        "colab_type": "text"
      },
      "source": [
        "functional programming\n",
        "\n",
        "simple\n",
        "\n",
        "easy to understand\n",
        "\n",
        "better reusability\n",
        "\n",
        "lengthy will be divided into sub programs\n",
        "\n"
      ]
    },
    {
      "cell_type": "markdown",
      "metadata": {
        "id": "OypWyfb52C3m",
        "colab_type": "text"
      },
      "source": [
        "syntax:\n",
        "\n",
        "def nameofthe function(<parameters>):\n",
        "\n",
        " statements\n",
        " \n",
        " return"
      ]
    },
    {
      "cell_type": "code",
      "metadata": {
        "id": "-pVHYDoC2n6k",
        "colab_type": "code",
        "colab": {
          "base_uri": "https://localhost:8080/",
          "height": 34
        },
        "outputId": "139c6559-7792-423b-c2e5-ea236ac5ffce"
      },
      "source": [
        "def evendigits(n):\n",
        "  s=0\n",
        "  while n!=0:\n",
        "    r=n%10\n",
        "    if r%2==0:\n",
        "      s=s+r\n",
        "    n=n//10\n",
        "  return s\n",
        "evendigits(123456)"
      ],
      "execution_count": 11,
      "outputs": [
        {
          "output_type": "execute_result",
          "data": {
            "text/plain": [
              "12"
            ]
          },
          "metadata": {
            "tags": []
          },
          "execution_count": 11
        }
      ]
    },
    {
      "cell_type": "code",
      "metadata": {
        "id": "kz7Kcuvi4zEv",
        "colab_type": "code",
        "colab": {
          "base_uri": "https://localhost:8080/",
          "height": 34
        },
        "outputId": "1da79321-de75-40ad-9a48-8ca3888b2a92"
      },
      "source": [
        "#print largest number from given number\n",
        "#input:19528\n",
        "#o/p:9\n",
        "def largest(n):\n",
        "    temp=0\n",
        "    while n!=0:\n",
        "      r=n%10\n",
        "      if r>temp:\n",
        "        temp=r\n",
        "      n=n//10\n",
        "    return temp\n",
        "largest(19528)"
      ],
      "execution_count": 32,
      "outputs": [
        {
          "output_type": "execute_result",
          "data": {
            "text/plain": [
              "9"
            ]
          },
          "metadata": {
            "tags": []
          },
          "execution_count": 32
        }
      ]
    },
    {
      "cell_type": "code",
      "metadata": {
        "id": "EBcS57tF9AKH",
        "colab_type": "code",
        "colab": {
          "base_uri": "https://localhost:8080/",
          "height": 34
        },
        "outputId": "4179534a-3a84-4d79-dafe-26d386009ce0"
      },
      "source": [
        "#reverse of given number\n",
        "#input:123\n",
        "#output:321\n",
        "def reverse(n):\n",
        "    temp=0\n",
        "    while n!=0:\n",
        "       r=n%10\n",
        "       temp=temp*10+r\n",
        "       n=n//10\n",
        "    return temp\n",
        "reverse(123)   "
      ],
      "execution_count": 43,
      "outputs": [
        {
          "output_type": "execute_result",
          "data": {
            "text/plain": [
              "321"
            ]
          },
          "metadata": {
            "tags": []
          },
          "execution_count": 43
        }
      ]
    },
    {
      "cell_type": "code",
      "metadata": {
        "id": "yuUxbg6p_Ub4",
        "colab_type": "code",
        "colab": {}
      },
      "source": [
        ""
      ],
      "execution_count": 0,
      "outputs": []
    },
    {
      "cell_type": "markdown",
      "metadata": {
        "id": "EiEeWHs9_uck",
        "colab_type": "text"
      },
      "source": [
        "### for loop\n",
        "####syntax\n",
        "for in range(start,stop,step):\n",
        ">statements"
      ]
    },
    {
      "cell_type": "code",
      "metadata": {
        "id": "-l1klyZvASyg",
        "colab_type": "code",
        "colab": {
          "base_uri": "https://localhost:8080/",
          "height": 34
        },
        "outputId": "10acb705-746f-4761-ef1a-576bc9e999d0"
      },
      "source": [
        "#print the numbers between two limits\n",
        "#input:11 25\n",
        "#output:11 12 13.....25\n",
        "def printseries(lb,ub):\n",
        "    for i in range(lb,ub+1):\n",
        "        print(i,end=' ')\n",
        "    return\n",
        "printseries(11,25)"
      ],
      "execution_count": 50,
      "outputs": [
        {
          "output_type": "stream",
          "text": [
            "11 12 13 14 15 16 17 18 19 20 21 22 23 24 25 "
          ],
          "name": "stdout"
        }
      ]
    }
  ]
}