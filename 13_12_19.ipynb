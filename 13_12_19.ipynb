{
  "nbformat": 4,
  "nbformat_minor": 0,
  "metadata": {
    "colab": {
      "name": "13-12-19",
      "provenance": [],
      "include_colab_link": true
    },
    "kernelspec": {
      "name": "python3",
      "display_name": "Python 3"
    }
  },
  "cells": [
    {
      "cell_type": "markdown",
      "metadata": {
        "id": "view-in-github",
        "colab_type": "text"
      },
      "source": [
        "<a href=\"https://colab.research.google.com/github/adwaitha03/python/blob/master/13_12_19.ipynb\" target=\"_parent\"><img src=\"https://colab.research.google.com/assets/colab-badge.svg\" alt=\"Open In Colab\"/></a>"
      ]
    },
    {
      "cell_type": "markdown",
      "metadata": {
        "id": "KzDMUGnuZIsT",
        "colab_type": "text"
      },
      "source": [
        ""
      ]
    },
    {
      "cell_type": "markdown",
      "metadata": {
        "id": "BtK2SRNDZRKr",
        "colab_type": "text"
      },
      "source": [
        "#markdowns\n",
        "##markdowns\n",
        "###markdowns\n",
        "####markdowns\n",
        "\n"
      ]
    },
    {
      "cell_type": "markdown",
      "metadata": {
        "id": "JX1bHoSFdSsU",
        "colab_type": "text"
      },
      "source": [
        "insert site address\n",
        "[site]https://sites.google.com/view/crt-gitam-batch-2)\n"
      ]
    },
    {
      "cell_type": "markdown",
      "metadata": {
        "id": "eewwAIqvdfMr",
        "colab_type": "text"
      },
      "source": [
        "insert image address\n",
        "![text](https://media.gettyimages.com/photos/red-pompom-dahlia-picture-id97352364?s=612x612)"
      ]
    },
    {
      "cell_type": "markdown",
      "metadata": {
        "id": "cm-3hCFpd58K",
        "colab_type": "text"
      },
      "source": [
        "#phyton basics:\n",
        "phytonis a beginner's language\n",
        "\n",
        "phyton is easy to learn"
      ]
    },
    {
      "cell_type": "markdown",
      "metadata": {
        "id": "u_o4xsBmeWdz",
        "colab_type": "text"
      },
      "source": [
        "creating ordered list\n",
        "\n",
        "1.c\n",
        "\n",
        "2.java\n",
        "\n",
        "    1.c++\n",
        "    2.phyton\n",
        "    "
      ]
    },
    {
      "cell_type": "markdown",
      "metadata": {
        "id": "jPrc1Zv5fbKc",
        "colab_type": "text"
      },
      "source": [
        "#creating unodrered list\n",
        "\n",
        "--abc\n",
        "\n",
        ".aaa\n",
        "\n",
        "\n"
      ]
    },
    {
      "cell_type": "markdown",
      "metadata": {
        "id": "p4bZMj-zgEpc",
        "colab_type": "text"
      },
      "source": [
        "##bold and italic\n",
        "**gitam**\n",
        "\n",
        "*gitam*\n",
        "\n"
      ]
    },
    {
      "cell_type": "markdown",
      "metadata": {
        "id": "ItPqHO-UgzQS",
        "colab_type": "text"
      },
      "source": [
        "\n"
      ]
    },
    {
      "cell_type": "code",
      "metadata": {
        "id": "cDuCfgtzhlqy",
        "colab_type": "code",
        "outputId": "41f69802-d582-4567-a244-7f6fdfc3d857",
        "colab": {
          "base_uri": "https://localhost:8080/",
          "height": 34
        }
      },
      "source": [
        "#basic hello\n",
        "print(\"hello world\")"
      ],
      "execution_count": 0,
      "outputs": [
        {
          "output_type": "stream",
          "text": [
            "hello world\n"
          ],
          "name": "stdout"
        }
      ]
    },
    {
      "cell_type": "code",
      "metadata": {
        "id": "KajVRtdfiF2M",
        "colab_type": "code",
        "outputId": "deb69e43-9d47-47e8-e355-7dc7c7c4c118",
        "colab": {
          "base_uri": "https://localhost:8080/",
          "height": 34
        }
      },
      "source": [
        "#variable creation\n",
        "x=10\n",
        "y=20\n",
        "x+y"
      ],
      "execution_count": 0,
      "outputs": [
        {
          "output_type": "execute_result",
          "data": {
            "text/plain": [
              "30"
            ]
          },
          "metadata": {
            "tags": []
          },
          "execution_count": 15
        }
      ]
    },
    {
      "cell_type": "markdown",
      "metadata": {
        "id": "MFWsZz9wib6q",
        "colab_type": "text"
      },
      "source": [
        "#rules for variable\n",
        "-name should begin with a character\n",
        "\n",
        "-no special character allowed except _"
      ]
    },
    {
      "cell_type": "code",
      "metadata": {
        "id": "_W5g3ykijpWa",
        "colab_type": "code",
        "outputId": "c66294f3-21cb-43f5-8609-36f26185b051",
        "colab": {
          "base_uri": "https://localhost:8080/",
          "height": 34
        }
      },
      "source": [
        "name=\"adwaitha\"\n",
        "age=20\n",
        "print(\"my name is:\",name,\"age is:\",age)"
      ],
      "execution_count": 0,
      "outputs": [
        {
          "output_type": "stream",
          "text": [
            "my name is: adwaitha age is: 20\n"
          ],
          "name": "stdout"
        }
      ]
    },
    {
      "cell_type": "code",
      "metadata": {
        "id": "1jpO5SDOk6_k",
        "colab_type": "code",
        "outputId": "39a5ce3d-aded-447d-e615-7673cc406700",
        "colab": {
          "base_uri": "https://localhost:8080/",
          "height": 68
        }
      },
      "source": [
        "name=input(\"enter name\")\n",
        "age=int(input(\"enter age\"))\n",
        "print(\"my name is:\",name,\"age is:\",age)"
      ],
      "execution_count": 0,
      "outputs": [
        {
          "output_type": "stream",
          "text": [
            "enter nameadwaitha\n",
            "enter age20\n",
            "my name is: adwaitha age is: 20\n"
          ],
          "name": "stdout"
        }
      ]
    },
    {
      "cell_type": "code",
      "metadata": {
        "id": "A6hS4Pypln26",
        "colab_type": "code",
        "outputId": "ea4c606a-44f0-45c3-f03b-ee3be22f2e43",
        "colab": {
          "base_uri": "https://localhost:8080/",
          "height": 68
        }
      },
      "source": [
        "x=int(input(\"enter x\"))\n",
        "y=int(input(\"enter y\"))\n",
        "print(\"add is:\",x+y,\"mul is:\",x*y,\"mod is:\",x%y,\"div is:\",x/y)"
      ],
      "execution_count": 0,
      "outputs": [
        {
          "output_type": "stream",
          "text": [
            "enter x 20\n",
            "enter y 10\n",
            "add is: 30 mul is: 200 mod is: 0 div is: 2.0\n"
          ],
          "name": "stdout"
        }
      ]
    },
    {
      "cell_type": "markdown",
      "metadata": {
        "id": "2IlM4xfInzzl",
        "colab_type": "text"
      },
      "source": [
        "#fundamental data types:\n",
        "-int\n",
        "\n",
        "-float\n",
        "\n",
        "-complex\n",
        "\n",
        "-boolean\n",
        "\n",
        "-string"
      ]
    },
    {
      "cell_type": "code",
      "metadata": {
        "id": "Aim-W-NQpKmD",
        "colab_type": "code",
        "outputId": "cf834032-2680-488f-efe6-03dcb6b26e6f",
        "colab": {
          "base_uri": "https://localhost:8080/",
          "height": 68
        }
      },
      "source": [
        "x=20\n",
        "y=15.32\n",
        "z=5+6j\n",
        "print(type(x))\n",
        "print(type(y))\n",
        "print(type(z))"
      ],
      "execution_count": 0,
      "outputs": [
        {
          "output_type": "stream",
          "text": [
            "<class 'int'>\n",
            "<class 'float'>\n",
            "<class 'complex'>\n"
          ],
          "name": "stdout"
        }
      ]
    },
    {
      "cell_type": "code",
      "metadata": {
        "id": "DwHSMKBQpvLk",
        "colab_type": "code",
        "outputId": "aee1eecd-a742-4e66-eb30-7978d433a86f",
        "colab": {
          "base_uri": "https://localhost:8080/",
          "height": 34
        }
      },
      "source": [
        "c=complex(2,5)\n",
        "print(c)"
      ],
      "execution_count": 0,
      "outputs": [
        {
          "output_type": "stream",
          "text": [
            "(2+5j)\n"
          ],
          "name": "stdout"
        }
      ]
    },
    {
      "cell_type": "code",
      "metadata": {
        "id": "AgigvuA7rIQ7",
        "colab_type": "code",
        "outputId": "21735e67-e776-4f84-c35d-a2fbdb8c8ed9",
        "colab": {
          "base_uri": "https://localhost:8080/",
          "height": 68
        }
      },
      "source": [
        "c1=3+5j\n",
        "c2=6+7j\n",
        "print(c1+c2)\n",
        "print(c1*c2)\n",
        "print(c1-c2)"
      ],
      "execution_count": 0,
      "outputs": [
        {
          "output_type": "stream",
          "text": [
            "(9+12j)\n",
            "(-17+51j)\n",
            "(-3-2j)\n"
          ],
          "name": "stdout"
        }
      ]
    },
    {
      "cell_type": "code",
      "metadata": {
        "id": "hBFgSYPisIc9",
        "colab_type": "code",
        "outputId": "7d1644fd-8012-47af-f94a-b659968a5a19",
        "colab": {
          "base_uri": "https://localhost:8080/",
          "height": 34
        }
      },
      "source": [
        "x = 6\n",
        "y = 9\n",
        "x < y"
      ],
      "execution_count": 0,
      "outputs": [
        {
          "output_type": "execute_result",
          "data": {
            "text/plain": [
              "True"
            ]
          },
          "metadata": {
            "tags": []
          },
          "execution_count": 32
        }
      ]
    },
    {
      "cell_type": "code",
      "metadata": {
        "id": "fOfdj5D3s2_c",
        "colab_type": "code",
        "outputId": "59db2840-08cd-4937-a7f8-4bffc25aaf02",
        "colab": {
          "base_uri": "https://localhost:8080/",
          "height": 34
        }
      },
      "source": [
        "#string\n",
        "s1=\"abc\"\n",
        "s2=\"efg\"\n",
        "print(type(s1),type(s2))"
      ],
      "execution_count": 0,
      "outputs": [
        {
          "output_type": "stream",
          "text": [
            "<class 'str'> <class 'str'>\n"
          ],
          "name": "stdout"
        }
      ]
    },
    {
      "cell_type": "code",
      "metadata": {
        "id": "dWn3B-owtcPk",
        "colab_type": "code",
        "outputId": "796e7570-d628-437f-faf4-9d5b0fd9e4c7",
        "colab": {
          "base_uri": "https://localhost:8080/",
          "height": 68
        }
      },
      "source": [
        "i=100\n",
        "print(type(i))\n",
        "s1=str(i)\n",
        "print(type(i))\n",
        "f1=float(i)\n",
        "print(type(f1))"
      ],
      "execution_count": 0,
      "outputs": [
        {
          "output_type": "stream",
          "text": [
            "<class 'int'>\n",
            "<class 'int'>\n",
            "<class 'float'>\n"
          ],
          "name": "stdout"
        }
      ]
    },
    {
      "cell_type": "code",
      "metadata": {
        "id": "j3qNvcPuuqB7",
        "colab_type": "code",
        "outputId": "e7f777cf-d7b8-44d9-ff6e-61ce3b2f97eb",
        "colab": {
          "base_uri": "https://localhost:8080/",
          "height": 34
        }
      },
      "source": [
        "#length\n",
        "a=12345\n",
        "print(len(str(a)))"
      ],
      "execution_count": 0,
      "outputs": [
        {
          "output_type": "stream",
          "text": [
            "5\n"
          ],
          "name": "stdout"
        }
      ]
    },
    {
      "cell_type": "code",
      "metadata": {
        "id": "z-UpjC_twKTv",
        "colab_type": "code",
        "outputId": "da337696-1903-4b34-cd33-6048db5ba43f",
        "colab": {
          "base_uri": "https://localhost:8080/",
          "height": 34
        }
      },
      "source": [
        "#length\n",
        "a=12345\n",
        "s=str(a)\n",
        "print(len(s))"
      ],
      "execution_count": 0,
      "outputs": [
        {
          "output_type": "stream",
          "text": [
            "5\n"
          ],
          "name": "stdout"
        }
      ]
    },
    {
      "cell_type": "code",
      "metadata": {
        "id": "geABN3ZJwcKF",
        "colab_type": "code",
        "outputId": "96f5a495-173a-403b-aab2-9ae9de7745c4",
        "colab": {
          "base_uri": "https://localhost:8080/",
          "height": 68
        }
      },
      "source": [
        "n1=100\n",
        "a=b=c=10\n",
        "a1,b1,c1=123,145,200\n",
        "print(n1)\n",
        "print(a,b,c)\n",
        "print(a1,b1,c1)"
      ],
      "execution_count": 0,
      "outputs": [
        {
          "output_type": "stream",
          "text": [
            "100\n",
            "10 10 10\n",
            "123 145 200\n"
          ],
          "name": "stdout"
        }
      ]
    },
    {
      "cell_type": "code",
      "metadata": {
        "id": "2x9ZPK0Owsod",
        "colab_type": "code",
        "colab": {}
      },
      "source": [
        ""
      ],
      "execution_count": 0,
      "outputs": []
    },
    {
      "cell_type": "markdown",
      "metadata": {
        "id": "_IFcsmcMwv1U",
        "colab_type": "text"
      },
      "source": [
        "#precedence of the arth operators\n",
        "-parenthesis\n",
        "\n",
        "-power\n",
        "\n",
        "-multiplication\n",
        "\n",
        "-addition\n"
      ]
    },
    {
      "cell_type": "code",
      "metadata": {
        "id": "n1kGpYe1xP8s",
        "colab_type": "code",
        "outputId": "65571786-9a04-4036-c4c8-c30442970a0e",
        "colab": {
          "base_uri": "https://localhost:8080/",
          "height": 34
        }
      },
      "source": [
        "x=1+2**3/4+5\n",
        "print(x)"
      ],
      "execution_count": 0,
      "outputs": [
        {
          "output_type": "stream",
          "text": [
            "8.0\n"
          ],
          "name": "stdout"
        }
      ]
    },
    {
      "cell_type": "code",
      "metadata": {
        "id": "WbGaRPcryTbt",
        "colab_type": "code",
        "outputId": "11d0fef1-735f-45b1-ce6a-4d524d4d2539",
        "colab": {
          "base_uri": "https://localhost:8080/",
          "height": 34
        }
      },
      "source": [
        "x=1+2**3/4*5\n",
        "print(x)"
      ],
      "execution_count": 0,
      "outputs": [
        {
          "output_type": "stream",
          "text": [
            "11.0\n"
          ],
          "name": "stdout"
        }
      ]
    },
    {
      "cell_type": "markdown",
      "metadata": {
        "id": "2YcRgX5JzhOO",
        "colab_type": "text"
      },
      "source": [
        ""
      ]
    },
    {
      "cell_type": "markdown",
      "metadata": {
        "id": "zITCB4T5zknF",
        "colab_type": "text"
      },
      "source": [
        "#operators\n",
        "--arithematic operators\n",
        "\n",
        "--+\n",
        "\n",
        "--\n",
        "\n",
        "-*\n",
        "\n",
        "-/\n",
        "\n",
        "-%\n",
        "\n",
        "-**\n",
        "\n",
        "-//\n",
        "\n"
      ]
    },
    {
      "cell_type": "code",
      "metadata": {
        "id": "HRxl5-Nh0KQd",
        "colab_type": "code",
        "outputId": "c74c5ee2-3e55-42a9-8cd8-676374b9fb4a",
        "colab": {
          "base_uri": "https://localhost:8080/",
          "height": 136
        }
      },
      "source": [
        "x=10\n",
        "y=20\n",
        "print(\"add is:\",x+y)\n",
        "print(\"sub is:\",x-y)\n",
        "print(\"mul is:\",x*y)\n",
        "print(\"div is:\",x/y)\n",
        "print(\"mod is:\",x%y)\n",
        "print(\"power is:\",x**y)\n",
        "print(\"quotient is:\",x//y)"
      ],
      "execution_count": 0,
      "outputs": [
        {
          "output_type": "stream",
          "text": [
            "add is: 30\n",
            "sub is: -10\n",
            "mul is: 200\n",
            "div is: 0.5\n",
            "mod is: 10\n",
            "power is: 100000000000000000000\n",
            "quotient is: 0\n"
          ],
          "name": "stdout"
        }
      ]
    },
    {
      "cell_type": "markdown",
      "metadata": {
        "id": "PPG4OK_J1Z2V",
        "colab_type": "text"
      },
      "source": [
        "#relational operators\n",
        "-==\n",
        "\n",
        "-!\n",
        "\n",
        "-<\n",
        "\n",
        "->\n",
        "\n",
        "-<=\n",
        "\n",
        "->=\n"
      ]
    },
    {
      "cell_type": "code",
      "metadata": {
        "id": "yE3LX2Jz3pJl",
        "colab_type": "code",
        "outputId": "0db018d6-321f-45ee-8427-12dbc225e636",
        "colab": {
          "base_uri": "https://localhost:8080/",
          "height": 34
        }
      },
      "source": [
        "x=5\n",
        "a=x<10\n",
        "print(a)"
      ],
      "execution_count": 0,
      "outputs": [
        {
          "output_type": "stream",
          "text": [
            "True\n"
          ],
          "name": "stdout"
        }
      ]
    },
    {
      "cell_type": "markdown",
      "metadata": {
        "id": "fCduztK53_IM",
        "colab_type": "text"
      },
      "source": [
        "logical operators\n",
        "\n",
        "and\n",
        "\n",
        "\n",
        "or\n",
        "\n",
        "not"
      ]
    },
    {
      "cell_type": "code",
      "metadata": {
        "id": "zPHswkAU4mbm",
        "colab_type": "code",
        "outputId": "f9d6ee0b-ffbf-468c-c530-e4a84d4158ad",
        "colab": {
          "base_uri": "https://localhost:8080/",
          "height": 68
        }
      },
      "source": [
        "i=100\n",
        "a1=(i>10)and(i>101)\n",
        "a2=(i>10)or(i>50)\n",
        "print(a1)\n",
        "print(a2)\n",
        "print(not i)"
      ],
      "execution_count": 0,
      "outputs": [
        {
          "output_type": "stream",
          "text": [
            "False\n",
            "True\n",
            "False\n"
          ],
          "name": "stdout"
        }
      ]
    },
    {
      "cell_type": "markdown",
      "metadata": {
        "id": "wmFM2INO5dY9",
        "colab_type": "text"
      },
      "source": [
        "membership operator\n",
        "\n",
        "-in\n",
        "\n",
        "-not in\n"
      ]
    },
    {
      "cell_type": "code",
      "metadata": {
        "id": "SRaAkaEY56at",
        "colab_type": "code",
        "outputId": "4b4f8bbd-6647-49ea-d5be-9a0e530f8571",
        "colab": {
          "base_uri": "https://localhost:8080/",
          "height": 51
        }
      },
      "source": [
        "str1=\"abc\"\n",
        "print('a' in str1)\n",
        "print('a' not in str1)"
      ],
      "execution_count": 0,
      "outputs": [
        {
          "output_type": "stream",
          "text": [
            "True\n",
            "False\n"
          ],
          "name": "stdout"
        }
      ]
    },
    {
      "cell_type": "markdown",
      "metadata": {
        "id": "MHcoyw4967cU",
        "colab_type": "text"
      },
      "source": [
        "#control flow statements\n",
        "\n",
        "-conditional statements\n",
        "\n",
        "-looping statements\n",
        "\n",
        "--if-else statement\n",
        "\n",
        "-syntax\n",
        "#### if condition:\n",
        ">statement<br>\n",
        "######else:\n",
        ">statements"
      ]
    },
    {
      "cell_type": "code",
      "metadata": {
        "id": "VTG8XPDP8VqO",
        "colab_type": "code",
        "outputId": "a0b6449f-7f89-4cb3-faa3-51230c230ce2",
        "colab": {
          "base_uri": "https://localhost:8080/",
          "height": 51
        }
      },
      "source": [
        "#check given number is even or odd\n",
        "n = int(input(\"enter a number\"))\n",
        "if n%2 == 0:\n",
        "  print(\"even\")\n",
        "else:\n",
        " print(\"odd\")"
      ],
      "execution_count": 0,
      "outputs": [
        {
          "output_type": "stream",
          "text": [
            "enter a number10\n",
            "even\n"
          ],
          "name": "stdout"
        }
      ]
    },
    {
      "cell_type": "code",
      "metadata": {
        "id": "P_jyhkQp9rMQ",
        "colab_type": "code",
        "outputId": "627ba467-f81f-4664-9c61-534b5784e279",
        "colab": {
          "base_uri": "https://localhost:8080/",
          "height": 51
        }
      },
      "source": [
        "# check given number is perfectly multiple of 3 and 5\n",
        "n=int(input(\"enter a number\"))\n",
        "if n%3==0 and n%5==0:\n",
        "  print(\"perfect multiple\")\n",
        "else:\n",
        "  print(\"not a perfect multiple\")"
      ],
      "execution_count": 0,
      "outputs": [
        {
          "output_type": "stream",
          "text": [
            "enter a number24\n",
            "not a perfect multiple\n"
          ],
          "name": "stdout"
        }
      ]
    },
    {
      "cell_type": "code",
      "metadata": {
        "id": "l1_i0lo3_YE-",
        "colab_type": "code",
        "colab": {}
      },
      "source": [
        "#check given number is positive,negative or zero\n",
        "#check input year is leap year or not"
      ],
      "execution_count": 0,
      "outputs": []
    },
    {
      "cell_type": "code",
      "metadata": {
        "id": "IZoI9r1BAdlG",
        "colab_type": "code",
        "outputId": "d32d257b-8cb0-4097-d40e-875c4b2c57de",
        "colab": {
          "base_uri": "https://localhost:8080/",
          "height": 51
        }
      },
      "source": [
        "n=int(input(\"enter a number\"))\n",
        "if n>0:\n",
        " print(\"positive\")\n",
        "elif n<0:\n",
        " print(\"negative\")\n",
        "elif n==0:\n",
        " print(\"zero\")\n"
      ],
      "execution_count": 11,
      "outputs": [
        {
          "output_type": "stream",
          "text": [
            "enter a number -2\n",
            "negative\n"
          ],
          "name": "stdout"
        }
      ]
    }
  ]
}