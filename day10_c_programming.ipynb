{
  "nbformat": 4,
  "nbformat_minor": 0,
  "metadata": {
    "colab": {
      "name": "day10 c programming",
      "provenance": [],
      "collapsed_sections": [],
      "include_colab_link": true
    },
    "kernelspec": {
      "name": "python3",
      "display_name": "Python 3"
    }
  },
  "cells": [
    {
      "cell_type": "markdown",
      "metadata": {
        "id": "view-in-github",
        "colab_type": "text"
      },
      "source": [
        "<a href=\"https://colab.research.google.com/github/adwaitha03/python/blob/master/day10_c_programming.ipynb\" target=\"_parent\"><img src=\"https://colab.research.google.com/assets/colab-badge.svg\" alt=\"Open In Colab\"/></a>"
      ]
    },
    {
      "cell_type": "code",
      "metadata": {
        "id": "52p2lMdhdBsl",
        "colab_type": "code",
        "colab": {}
      },
      "source": [
        "//prime number\n",
        "#include<stdio.h>\n",
        "void main()\n",
        "{\n",
        "    int n,i,c=0;\n",
        "    scanf(\"%d\",&n);\n",
        "    for(i=2;i<=n/2;i++)\n",
        "    {\n",
        "        if(n%i==0)\n",
        "        c++;\n",
        "    }\n",
        "    if(c==0)\n",
        "    printf(\"prime number\");\n",
        "    else\n",
        "    printf(\"not a prime number\");\n",
        "}"
      ],
      "execution_count": 0,
      "outputs": []
    },
    {
      "cell_type": "code",
      "metadata": {
        "id": "OWJQkdEZfFtA",
        "colab_type": "code",
        "colab": {}
      },
      "source": [
        "\n",
        "//prime number\n",
        "#include<stdio.h>\n",
        "void main()\n",
        "{\n",
        "    int n,i,c=0;\n",
        "    scanf(\"%d\",&n);\n",
        "    for(i=2;i<=n/2;i++)\n",
        "    {\n",
        "        if(n%i==0)\n",
        "        c++;\n",
        "    }\n",
        "    if(c==0)\n",
        "    printf(\"prime number\");\n",
        "    else\n",
        "    printf(\"not a prime number\");\n",
        "}"
      ],
      "execution_count": 0,
      "outputs": []
    },
    {
      "cell_type": "code",
      "metadata": {
        "id": "V2iniGE6fPsE",
        "colab_type": "code",
        "colab": {}
      },
      "source": [
        "//prime number with range\n",
        "\n",
        "#include<stdio.h>\n",
        "void main()\n",
        "{\n",
        "    int n,i,c,range;\n",
        "    scanf(\"%d\",&range);\n",
        "    for(n=2;n<=range;n++)\n",
        "    {\n",
        "        c=0;\n",
        "        for(i=2;i<=n/2;i++)\n",
        "        {\n",
        "        if(n%i==0)\n",
        "        c++;\n",
        "        }\n",
        "    if(c==0)\n",
        "    printf(\"%5d\",n);\n",
        "    }\n",
        "    \n",
        "}    \n",
        "\n"
      ],
      "execution_count": 0,
      "outputs": []
    },
    {
      "cell_type": "code",
      "metadata": {
        "id": "iP9WpPxkigni",
        "colab_type": "code",
        "colab": {
          "base_uri": "https://localhost:8080/",
          "height": 129
        },
        "outputId": "2ba47a85-ab61-4af0-ed1a-8a04b93b1063"
      },
      "source": [
        "// primenumber and its sum\n",
        "#include<stdio.h>\n",
        "void main()\n",
        "{\n",
        "    int n,i,c,range,s=0;\n",
        "    scanf(\"%d\",&range);\n",
        "    for(n=2;n<=range;n++)\n",
        "    {\n",
        "        c=0;\n",
        "        for(i=2;i<=n/2;i++)\n",
        "        {\n",
        "        if(n%i==0)\n",
        "        c++;\n",
        "        }\n",
        "    if(c==0)\n",
        "    s=s+n;\n",
        "    printf(\"%5d\",n);\n",
        "    }\n",
        "    printf(\"\\n%d\",s);\n",
        "}    "
      ],
      "execution_count": 1,
      "outputs": [
        {
          "output_type": "error",
          "ename": "SyntaxError",
          "evalue": "ignored",
          "traceback": [
            "\u001b[0;36m  File \u001b[0;32m\"<ipython-input-1-01ea4cfe20b2>\"\u001b[0;36m, line \u001b[0;32m1\u001b[0m\n\u001b[0;31m    (/, primenumber, and, its, sum)\u001b[0m\n\u001b[0m     ^\u001b[0m\n\u001b[0;31mSyntaxError\u001b[0m\u001b[0;31m:\u001b[0m invalid syntax\n"
          ]
        }
      ]
    },
    {
      "cell_type": "code",
      "metadata": {
        "id": "BHjsU7jfkICr",
        "colab_type": "code",
        "colab": {}
      },
      "source": [
        "\n",
        "//prime number range between 500 and 1000\n",
        "\n",
        "\n",
        "#include<stdio.h>\n",
        "void main()\n",
        "{\n",
        "    int n,i,c,range,s;\n",
        "    scanf(\"%d\",&range);\n",
        "    for(n=500;n<=range;n++)\n",
        "    {\n",
        "        c=0;\n",
        "        for(i=2;i<=n/2;i++)\n",
        "        {\n",
        "        if(n%i==0)\n",
        "        c++;\n",
        "        }\n",
        "    if(c==0)\n",
        "    {\n",
        "    s=s+n;\n",
        "    printf(\" %d\",n);\n",
        "    }\n",
        "    }\n",
        "    printf(\"\\n%d\",s);\n",
        "}    "
      ],
      "execution_count": 0,
      "outputs": []
    },
    {
      "cell_type": "code",
      "metadata": {
        "id": "ZWmVcnS6sdy6",
        "colab_type": "code",
        "colab": {}
      },
      "source": [
        "//fibanocci series upto n numbers\n",
        "\n",
        "#include<stdio.h>\n",
        "void main()\n",
        "{\n",
        "    int n,f1=0,f2=1,f3,i;\n",
        "    scanf(\"%d\",&n);\n",
        "    printf(\"fibanocci series:\");\n",
        "    for(i=0;i<=n;i++)\n",
        "    {\n",
        "        printf(\" %d\",f1);\n",
        "        f3=f1+f2;\n",
        "        f1=f2;\n",
        "        f2=f3;\n",
        "    }\n",
        "    return 0;\n",
        "}    "
      ],
      "execution_count": 0,
      "outputs": []
    },
    {
      "cell_type": "code",
      "metadata": {
        "id": "hEe95AVYsx7j",
        "colab_type": "code",
        "colab": {}
      },
      "source": [
        "//\n",
        "A\n",
        "A B\n",
        "A B C\n",
        "A B C D \n",
        "A B C D E\n",
        "\n",
        "\n",
        "\n",
        "\n",
        "\n",
        "#include<stdio.h>\n",
        "void main()\n",
        "{\n",
        "    int i,j;\n",
        "    for(i=1;i<=5;i++)\n",
        "    {\n",
        "        for(j=1;j<=i;j++)\n",
        "        {\n",
        "            printf(\" %c\",j+ 64);\n",
        "           \n",
        "        }\n",
        "        printf(\"\\n\");\n",
        "    \n",
        "    } \n",
        "\n",
        "}    "
      ],
      "execution_count": 0,
      "outputs": []
    },
    {
      "cell_type": "code",
      "metadata": {
        "id": "IsNm2DDT558p",
        "colab_type": "code",
        "colab": {}
      },
      "source": [
        " 1\n",
        " 2   3\n",
        " 4   5   6 \n",
        " 7   8   9  10\n",
        " 11 12 13 14 15\n",
        "\n",
        "#include<stdio.h>\n",
        "void main()\n",
        "{\n",
        "    int i,j,k=1;\n",
        "    for(i=1;i<=5;i++)\n",
        "    {\n",
        "        for(j=1;j<=i;j++)\n",
        "        {\n",
        "            printf(\" %d\",k++);\n",
        "           \n",
        "        }\n",
        "        printf(\"\\n\");\n",
        "    \n",
        "    } \n",
        "\n",
        "}    "
      ],
      "execution_count": 0,
      "outputs": []
    },
    {
      "cell_type": "code",
      "metadata": {
        "id": "O8PWuXJO6sot",
        "colab_type": "code",
        "colab": {}
      },
      "source": [
        "#include<stdio.h>\n",
        "void main()\n",
        "{\n",
        "    int i,j;\n",
        "    for(i=1;i<=5;i++)\n",
        "    {\n",
        "        for(j=1;j<=5;j++)\n",
        "        {\n",
        "           if(i==1||i==5||j==1||j==5)\n",
        "           printf(\"*\");\n",
        "           else\n",
        "           printf(\" \");\n",
        "        }\n",
        "        printf(\"\\n\");\n",
        "    } \n",
        "}    \n",
        "\n",
        "* * * * *\n",
        "*       *\n",
        "*       *\n",
        "*       *\n",
        "* * * * *\n",
        "\n"
      ],
      "execution_count": 0,
      "outputs": []
    },
    {
      "cell_type": "code",
      "metadata": {
        "id": "SIle8bMW7tsR",
        "colab_type": "code",
        "colab": {
          "base_uri": "https://localhost:8080/",
          "height": 129
        },
        "outputId": "392dae06-034d-4de1-e625-8495ced8763d"
      },
      "source": [
        "#include<stdio.h>\n",
        "void main()\n",
        "{\n",
        "    int i,j;\n",
        "    for(i=1;i<=5;i++)\n",
        "    {\n",
        "        for(j=1;j<=5;j++)\n",
        "        {\n",
        "         printf(\" %d\",j);\n",
        "        }\n",
        "        printf(\"\\n\");\n",
        "    } \n",
        "}    \n",
        "\n",
        "\n",
        "1 2 3 4 5 \n",
        "1 2 3 4 5 \n",
        "1 2 3 4 5 \n",
        "1 2 3 4 5 \n",
        "1 2 3 4 5 "
      ],
      "execution_count": 2,
      "outputs": [
        {
          "output_type": "error",
          "ename": "SyntaxError",
          "evalue": "ignored",
          "traceback": [
            "\u001b[0;36m  File \u001b[0;32m\"<ipython-input-2-19a5d8451b08>\"\u001b[0;36m, line \u001b[0;32m1\u001b[0m\n\u001b[0;31m    void main()\u001b[0m\n\u001b[0m            ^\u001b[0m\n\u001b[0;31mSyntaxError\u001b[0m\u001b[0;31m:\u001b[0m invalid syntax\n"
          ]
        }
      ]
    },
    {
      "cell_type": "code",
      "metadata": {
        "id": "SHbpf9eY8FFt",
        "colab_type": "code",
        "colab": {}
      },
      "source": [
        "#include<stdio.h>\n",
        "void main()\n",
        "{\n",
        "    int i,j;\n",
        "    for(i=1;i<=5;i++)\n",
        "    {\n",
        "        for(j=1;j<=i;j++)\n",
        "        {\n",
        "         printf(\" %d\",j);\n",
        "        }\n",
        "        printf(\"\\n\");\n",
        "    } \n",
        "}    \n",
        "\n",
        "\n",
        "1\n",
        "1 2\n",
        "1 2 3\n",
        "1 2 3 4 \n",
        "1 2 3 4 5"
      ],
      "execution_count": 0,
      "outputs": []
    },
    {
      "cell_type": "code",
      "metadata": {
        "id": "ng8OLM7f8PJl",
        "colab_type": "code",
        "colab": {}
      },
      "source": [
        "#include<stdio.h>\n",
        "void main()\n",
        "{\n",
        "    int i,j;\n",
        "    for(i=1;i<=5;i++)\n",
        "    {\n",
        "        for(j=1;j<=i;j++)\n",
        "        {\n",
        "         printf(\" %d\",j);\n",
        "         if(j<i)\n",
        "         printf(\"*\");\n",
        "        }\n",
        "        printf(\"\\n\");\n",
        "    } \n",
        "}    \n",
        "\n",
        "1\n",
        "1*2\n",
        "1*2*3\n",
        "1*2*3*4\n",
        "1*2*3*4*5"
      ],
      "execution_count": 0,
      "outputs": []
    },
    {
      "cell_type": "code",
      "metadata": {
        "id": "cPW8ufw08lP9",
        "colab_type": "code",
        "colab": {}
      },
      "source": [
        "#include<stdio.h>\n",
        "void main()\n",
        "{\n",
        "    int i,j;\n",
        "    for(i=1;i<=5;i++)\n",
        "    {\n",
        "        for(j=1;j<=5;j++)\n",
        "        {\n",
        "         printf(\" %d\",j);\n",
        "         if(j<i)\n",
        "         printf(\"*\");\n",
        "        }\n",
        "        printf(\"\\n\");\n",
        "    } \n",
        "}    \n",
        "\n",
        "12345\n",
        "1*2345\n",
        "1*2*345\n",
        "1*2*3*45\n",
        "1*2*3*4*5"
      ],
      "execution_count": 0,
      "outputs": []
    },
    {
      "cell_type": "code",
      "metadata": {
        "id": "x3D_DpiJ9BX2",
        "colab_type": "code",
        "colab": {}
      },
      "source": [
        ""
      ],
      "execution_count": 0,
      "outputs": []
    }
  ]
}